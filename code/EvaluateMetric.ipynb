{
 "cells": [
  {
   "cell_type": "raw",
   "metadata": {
    "collapsed": true
   },
   "source": [
    "topic_list_file = ['vaccine','aeroplane','space','gravity','sense']\n",
    "actual_topics = ['gravity','aeroplane','economy']"
   ]
  },
  {
   "cell_type": "code",
   "execution_count": 1,
   "metadata": {
    "collapsed": true
   },
   "outputs": [],
   "source": [
    "import pickle,os,pandas"
   ]
  },
  {
   "cell_type": "code",
   "execution_count": 2,
   "metadata": {
    "collapsed": true
   },
   "outputs": [],
   "source": [
    "# Path where all the predicted topics would be present\n",
    "#here = os.path.abspath(\"C:\\\\Users\\\\Beast\\\\Desktop\\\\Project_Run\")\n",
    "here = os.path.abspath(\"C:\\\\Users\\\\Beast\\\\Desktop\\\\Project_Run\\\\clean\")"
   ]
  },
  {
   "cell_type": "code",
   "execution_count": 3,
   "metadata": {
    "collapsed": true
   },
   "outputs": [],
   "source": [
    "picklepath = os.path.abspath(\"C:\\\\Users\\\\Beast\\\\Desktop\\\\Ted_confx\\\\indexfiles\\\\clean\\\\topic_bags_20.pkl\")\n",
    "p1 = open(picklepath,\"rb\")\n",
    "topic_bags = pickle.load(p1)\n",
    "p1.close()"
   ]
  },
  {
   "cell_type": "code",
   "execution_count": 4,
   "metadata": {
    "collapsed": false
   },
   "outputs": [],
   "source": [
    "# Get the files for topics\n",
    "topic_for_file = pandas.read_csv(\"C:\\\\Users\\\\Beast\\\\Desktop\\\\Ted_confx\\\\topics.csv\",encoding = \"ISO-8859-1\")"
   ]
  },
  {
   "cell_type": "code",
   "execution_count": 5,
   "metadata": {
    "collapsed": false
   },
   "outputs": [],
   "source": [
    "# Create a dictionary with the list of actual topics for every file\n",
    "\n",
    "actual_topic_dict = {}\n",
    "\n",
    "for file in topic_for_file['Filename']:\n",
    "    rowf = topic_for_file.loc[topic_for_file['Filename'] == file]  #get the row ie filename row\n",
    "    rowfp = [x.upper() for x in list(rowf.iloc[0][6:]) if str(x) != 'nan'] #get the list of topics for the file\n",
    "    actual_topic_dict[file] = rowfp                                       #add to the dictionary\n",
    "    "
   ]
  },
  {
   "cell_type": "code",
   "execution_count": 6,
   "metadata": {
    "collapsed": true
   },
   "outputs": [],
   "source": [
    "# Create the list of files that need to be processed\n",
    "file_list = []\n",
    "for file in os.listdir(here):\n",
    "    if file.endswith(\".txt\"):\n",
    "        file_list.append(file)"
   ]
  },
  {
   "cell_type": "code",
   "execution_count": 7,
   "metadata": {
    "collapsed": false
   },
   "outputs": [],
   "source": [
    "# Predict 15\n",
    "predict_file_dict = {}\n",
    "for file in file_list:\n",
    "    fptest = os.path.join(here,file)\n",
    "    file_t = open(fptest,\"r\")\n",
    "    test_file = file_t.read()\n",
    "    topic_dict = {}\n",
    "    for topic in topic_bags:\n",
    "        match_words = set(test_file) & set(topic_bags[topic])\n",
    "        if len(match_words) > 0:\n",
    "            topic_dict[topic] = len(match_words)\n",
    "    sorted_topics = sorted(topic_dict.items(),key=lambda x: x[1],reverse=True)\n",
    "    predict_file_dict[file] = [list(ele)[0] for ele in sorted_topics]\n",
    "    file_t.close()"
   ]
  },
  {
   "cell_type": "code",
   "execution_count": 8,
   "metadata": {
    "collapsed": false
   },
   "outputs": [],
   "source": [
    "final_eval = {}\n",
    "sum_mp,accuracy = 0,0\n",
    "for file in topic_for_file['Filename']:\n",
    "    match = set(actual_topic_dict[file]) & set(predict_file_dict[file])\n",
    "    match_percent = (len(match)*100)/len(actual_topic_dict[file])\n",
    "    final_eval[file] = [actual_topic_dict[file],predict_file_dict[file],match_percent]\n",
    "    sum_mp += match_percent\n",
    "accuracy = sum_mp/len(topic_for_file)"
   ]
  },
  {
   "cell_type": "code",
   "execution_count": 9,
   "metadata": {
    "collapsed": false
   },
   "outputs": [
    {
     "data": {
      "text/plain": [
       "8.157843147153484"
      ]
     },
     "execution_count": 9,
     "metadata": {},
     "output_type": "execute_result"
    }
   ],
   "source": [
    "accuracy #final_eval"
   ]
  },
  {
   "cell_type": "code",
   "execution_count": 10,
   "metadata": {
    "collapsed": true
   },
   "outputs": [],
   "source": [
    "# Save the final evaluation i.e after prediction\n",
    "picklepath = os.path.abspath(\"C:\\\\Users\\\\Beast\\\\Desktop\\\\Project_Run\\\\test_final_eval_topic_bags_20.pkl\")\n",
    "p1 = open(picklepath,\"wb\")\n",
    "pickle.dump(final_eval, p1, pickle.HIGHEST_PROTOCOL)\n",
    "p1.close()"
   ]
  },
  {
   "cell_type": "raw",
   "metadata": {
    "collapsed": false
   },
   "source": [
    "#sorted_topics\n",
    "#set(actual_topic_dict['zeynep_tufekci_how_the_internet_has_made_social_change_easy_to_organize_hard_to_win.txt']) & set(predict_file_dict['zeynep_tufekci_how_the_internet_has_made_social_change_easy_to_organize_hard_to_win.txt'])\n",
    "#[list(ele)[0] for ele in sorted(topic_dict.items(),key=lambda x: x[1],reverse=True)][0:2]"
   ]
  },
  {
   "cell_type": "raw",
   "metadata": {
    "collapsed": false
   },
   "source": [
    "d={'a':[['b',3],['c',2]]}\n",
    "list(d)\n",
    "#sorted(d['a'],key=lambda x: x[1],reverse=True)"
   ]
  },
  {
   "cell_type": "raw",
   "metadata": {
    "collapsed": false
   },
   "source": [
    "f1 = open(here,\"r\")\n",
    "f1text = f1.read()\n",
    "match = set(f1text) & set(topic_bags['ADVENTURE'])\n",
    "len(match)\n",
    "f1text.close()"
   ]
  },
  {
   "cell_type": "raw",
   "metadata": {
    "collapsed": false
   },
   "source": [
    "matches = [x for x in actual_topics if x in topic_list_file]"
   ]
  },
  {
   "cell_type": "raw",
   "metadata": {
    "collapsed": false
   },
   "source": [
    "matches"
   ]
  },
  {
   "cell_type": "raw",
   "metadata": {},
   "source": [
    "Even if the length of the predicted topic list is larger, the matches would be less than or equal to the actual_topics"
   ]
  },
  {
   "cell_type": "raw",
   "metadata": {
    "collapsed": false
   },
   "source": [
    "match_percent = [len(matches)*100/len(actual_topics)"
   ]
  },
  {
   "cell_type": "raw",
   "metadata": {
    "collapsed": false
   },
   "source": [
    "d={'a':5,'b':6,'c':4,'e':0}"
   ]
  },
  {
   "cell_type": "raw",
   "metadata": {
    "collapsed": false
   },
   "source": [
    "\n",
    "d = OrderedDict(sorted(d.items(),key=lambda x: x[1]))\n",
    "d"
   ]
  }
 ],
 "metadata": {
  "anaconda-cloud": {},
  "kernelspec": {
   "display_name": "Python [Root]",
   "language": "python",
   "name": "Python [Root]"
  },
  "language_info": {
   "codemirror_mode": {
    "name": "ipython",
    "version": 3
   },
   "file_extension": ".py",
   "mimetype": "text/x-python",
   "name": "python",
   "nbconvert_exporter": "python",
   "pygments_lexer": "ipython3",
   "version": "3.5.2"
  }
 },
 "nbformat": 4,
 "nbformat_minor": 0
}
