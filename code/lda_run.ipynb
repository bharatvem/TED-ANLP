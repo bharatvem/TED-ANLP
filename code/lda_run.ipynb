{
 "cells": [
  {
   "cell_type": "code",
   "execution_count": 137,
   "metadata": {
    "collapsed": true
   },
   "outputs": [],
   "source": [
    "import time,pickle"
   ]
  },
  {
   "cell_type": "code",
   "execution_count": 37,
   "metadata": {
    "collapsed": false
   },
   "outputs": [
    {
     "name": "stderr",
     "output_type": "stream",
     "text": [
      "C:\\Anaconda3\\lib\\site-packages\\gensim\\utils.py:840: UserWarning: detected Windows; aliasing chunkize to chunkize_serial\n",
      "  warnings.warn(\"detected Windows; aliasing chunkize to chunkize_serial\")\n",
      "C:\\Anaconda3\\lib\\site-packages\\gensim\\utils.py:1015: UserWarning: Pattern library is not installed, lemmatization won't be available.\n",
      "  warnings.warn(\"Pattern library is not installed, lemmatization won't be available.\")\n"
     ]
    }
   ],
   "source": [
    "import lda,pandas,os\n",
    "from gensim import corpora,models"
   ]
  },
  {
   "cell_type": "code",
   "execution_count": 50,
   "metadata": {
    "collapsed": true
   },
   "outputs": [],
   "source": [
    "import re"
   ]
  },
  {
   "cell_type": "code",
   "execution_count": 27,
   "metadata": {
    "collapsed": false
   },
   "outputs": [],
   "source": [
    "# Get the files for topics\n",
    "file_for_topic = pandas.read_csv(\"C:\\\\Users\\\\Beast\\\\Desktop\\\\Ted_confx\\\\LDA_Topics_File.csv\",header=None)\n",
    "#  \"clean\" folder will the folder with the cleaned file\n",
    "#here = os.path.abspath(\"C:\\\\Users\\\\Beast\\\\Desktop\\\\Project_Run\\\\clean\")\n"
   ]
  },
  {
   "cell_type": "code",
   "execution_count": 31,
   "metadata": {
    "collapsed": false
   },
   "outputs": [],
   "source": [
    "# Get all the filenames under each topic in a dictionary eg: 'INSECT':['a.txt','b,txt']\n",
    "all_files = {}\n",
    "for idx, row in file_for_topic.iterrows():\n",
    "    topic_files = [x for x in row if str(x).endswith(\".txt\")]\n",
    "    all_files[row[0]] = topic_files"
   ]
  },
  {
   "cell_type": "code",
   "execution_count": 33,
   "metadata": {
    "collapsed": true
   },
   "outputs": [],
   "source": [
    "# Function to return text from a file. This would help in creating the dictionary\n",
    "here = os.path.abspath(\"C:\\\\Users\\\\Beast\\\\Desktop\\\\Ted_confx\\\\indexfiles\\\\clean\")\n",
    "def getwords(x):\n",
    "    r_fp = os.path.join(here,x)\n",
    "    f = open(r_fp,'r')\n",
    "    text=f.read()\n",
    "    f.close()\n",
    "    return text    "
   ]
  },
  {
   "cell_type": "code",
   "execution_count": 35,
   "metadata": {
    "collapsed": false
   },
   "outputs": [],
   "source": [
    "# Function to return the sorted(descending) words based on their frequencies\n",
    "# dm = matrix & pp=row of matrix\n",
    "def g(dm,pp):\n",
    "    return sorted(dm[pp],key=lambda x: x[1],reverse=True)"
   ]
  },
  {
   "cell_type": "code",
   "execution_count": 40,
   "metadata": {
    "collapsed": true
   },
   "outputs": [],
   "source": [
    "Lda = models.ldamodel.LdaModel"
   ]
  },
  {
   "cell_type": "code",
   "execution_count": 148,
   "metadata": {
    "collapsed": false
   },
   "outputs": [
    {
     "name": "stdout",
     "output_type": "stream",
     "text": [
      "388.3771147171656\n"
     ]
    }
   ],
   "source": [
    "start_time = time.time()\n",
    "topic_bags = {}\n",
    "for t in all_files.keys():\n",
    "    file_list = all_files[t]\n",
    "    doc_clean = [getwords(doc).split() for doc in file_list]   \n",
    "    dictionary = corpora.Dictionary(doc_clean)\n",
    "    if len(dictionary.keys()) > 0:\n",
    "        dmatrix = [dictionary.doc2bow(d) for d in doc_clean]\n",
    "        dmatrix2 = [g(dmatrix,i) for i in range(len(dmatrix))]\n",
    "        ldamodel2 = Lda(dmatrix2,num_topics=5,id2word = dictionary, passes=50)\n",
    "        pt = ldamodel2.print_topics(num_words=20)\n",
    "        topic_bags[t] = re.findall('\"([^\"]*)\"',str(pt))\n",
    "print((time.time()-start_time)/60)"
   ]
  },
  {
   "cell_type": "code",
   "execution_count": 150,
   "metadata": {
    "collapsed": false
   },
   "outputs": [
    {
     "data": {
      "text/plain": [
       "[(0,\n",
       "  '0.001*\"design\" + 0.001*\"work\" + 0.001*\"time\" + 0.001*\"people\" + 0.001*\"thing\" + 0.001*\"thought\" + 0.001*\"back\" + 0.001*\"kind\" + 0.001*\"book\" + 0.001*\"happy\" + 0.001*\"working\" + 0.001*\"designer\" + 0.001*\"couple\" + 0.001*\"magazine\" + 0.001*\"font\" + 0.001*\"type\" + 0.001*\"piece\" + 0.001*\"world\" + 0.001*\"lot\" + 0.001*\"york\"'),\n",
       " (1,\n",
       "  '0.001*\"design\" + 0.001*\"people\" + 0.001*\"work\" + 0.001*\"kind\" + 0.001*\"time\" + 0.001*\"thing\" + 0.001*\"lot\" + 0.001*\"thought\" + 0.001*\"type\" + 0.001*\"designer\" + 0.001*\"book\" + 0.001*\"technology\" + 0.001*\"make\" + 0.001*\"font\" + 0.001*\"working\" + 0.001*\"world\" + 0.001*\"back\" + 0.001*\"slide\" + 0.001*\"word\" + 0.001*\"line\"'),\n",
       " (2,\n",
       "  '0.001*\"design\" + 0.001*\"people\" + 0.001*\"work\" + 0.001*\"time\" + 0.001*\"book\" + 0.001*\"kind\" + 0.001*\"thought\" + 0.001*\"thing\" + 0.001*\"made\" + 0.001*\"working\" + 0.001*\"world\" + 0.001*\"back\" + 0.001*\"type\" + 0.001*\"lot\" + 0.001*\"designer\" + 0.001*\"technology\" + 0.001*\"good\" + 0.001*\"screen\" + 0.001*\"word\" + 0.001*\"font\"'),\n",
       " (3,\n",
       "  '0.015*\"font\" + 0.010*\"designer\" + 0.010*\"design\" + 0.010*\"type\" + 0.010*\"screen\" + 0.010*\"designed\" + 0.009*\"sort\" + 0.009*\"technology\" + 0.009*\"serif\" + 0.009*\"problem\" + 0.008*\"letter\" + 0.006*\"line\" + 0.006*\"slide\" + 0.006*\"time\" + 0.006*\"18\" + 0.006*\"typeface\" + 0.005*\"good\" + 0.005*\"work\" + 0.005*\"bitmap\" + 0.005*\"pixel\"'),\n",
       " (4,\n",
       "  '0.014*\"work\" + 0.012*\"people\" + 0.011*\"time\" + 0.011*\"design\" + 0.010*\"thing\" + 0.008*\"kind\" + 0.006*\"thought\" + 0.006*\"back\" + 0.006*\"book\" + 0.005*\"working\" + 0.005*\"world\" + 0.005*\"happy\" + 0.004*\"lot\" + 0.004*\"word\" + 0.004*\"york\" + 0.004*\"magazine\" + 0.004*\"graphic\" + 0.004*\"piece\" + 0.004*\"couple\" + 0.004*\"made\"')]"
      ]
     },
     "execution_count": 150,
     "metadata": {},
     "output_type": "execute_result"
    }
   ],
   "source": [
    "#topic_bags[t] = ldamodel2.print_topics(num_words=20)\n",
    "#topic_bags[t]"
   ]
  },
  {
   "cell_type": "code",
   "execution_count": 142,
   "metadata": {
    "collapsed": false
   },
   "outputs": [
    {
     "data": {
      "text/plain": [
       "['work',\n",
       " 'people',\n",
       " 'time',\n",
       " 'design',\n",
       " 'thing',\n",
       " 'kind',\n",
       " 'thought',\n",
       " 'back',\n",
       " 'work',\n",
       " 'time',\n",
       " 'people',\n",
       " 'design',\n",
       " 'kind',\n",
       " 'word',\n",
       " 'create',\n",
       " 'valentine',\n",
       " 'design',\n",
       " 'time',\n",
       " 'people',\n",
       " 'thing',\n",
       " 'kind',\n",
       " 'thought',\n",
       " 'work',\n",
       " 'back',\n",
       " 'people',\n",
       " 'work',\n",
       " 'design',\n",
       " 'thing',\n",
       " 'kind',\n",
       " 'time',\n",
       " 'book',\n",
       " 'thought',\n",
       " 'font',\n",
       " 'designer',\n",
       " 'design',\n",
       " 'type',\n",
       " 'screen',\n",
       " 'designed',\n",
       " 'sort',\n",
       " 'technology']"
      ]
     },
     "execution_count": 142,
     "metadata": {},
     "output_type": "execute_result"
    }
   ],
   "source": [
    "topic_bags['TYPOGRAPHY']\n",
    "#re.findall('\"([^\"]*)\"',str(pt))"
   ]
  },
  {
   "cell_type": "code",
   "execution_count": 151,
   "metadata": {
    "collapsed": false
   },
   "outputs": [],
   "source": [
    "picklepath = os.path.abspath(\"C:\\\\Users\\\\Beast\\\\Desktop\\\\Ted_confx\\\\indexfiles\\\\clean\\\\topic_bags_20.pkl\")\n",
    "p1 = open(picklepath,\"wb\")\n",
    "pickle.dump(topic_bags, p1, pickle.HIGHEST_PROTOCOL)\n",
    "p1.close()"
   ]
  },
  {
   "cell_type": "code",
   "execution_count": null,
   "metadata": {
    "collapsed": true
   },
   "outputs": [],
   "source": [
    "p1 = open(picklepath,\"rb\")\n",
    "topic_bags = pickle.load(p1)\n",
    "p1.close()"
   ]
  },
  {
   "cell_type": "code",
   "execution_count": 135,
   "metadata": {
    "collapsed": false
   },
   "outputs": [],
   "source": [
    "import time\n",
    "t=time.time()\n",
    "\n"
   ]
  },
  {
   "cell_type": "code",
   "execution_count": 136,
   "metadata": {
    "collapsed": false
   },
   "outputs": [
    {
     "data": {
      "text/plain": [
       "0.6024443507194519"
      ]
     },
     "execution_count": 136,
     "metadata": {},
     "output_type": "execute_result"
    }
   ],
   "source": [
    "(time.time()-t)/60"
   ]
  },
  {
   "cell_type": "code",
   "execution_count": 80,
   "metadata": {
    "collapsed": false
   },
   "outputs": [
    {
     "data": {
      "text/plain": [
       "[\"'), (1, '0.009*\",\n",
       " \", 'rock', ' + 0.009*', 'meter', ' + 0.006*', 'time', ' + 0.006*', 'dinosaur', ' + 0.006*', 'thing', ' + 0.006*', 'surface', ' + 0.006*', 'find', ' + 0.006*', 'back', \",\n",
       " \"'), (2, '0.009*\",\n",
       " \", 'biosphere', ' + 0.008*', 'time', ' + 0.006*', 'put', ' + 0.006*', 'day', ' + 0.006*', 'back', ' + 0.006*', 'costume', ' + 0.005*', 'people', ' + 0.005*', 'thing', \",\n",
       " \"'), (3, '0.006*\",\n",
       " \", 'ocean', ' + 0.006*', 'place', ' + 0.005*', 'earth', ' + 0.005*', 'year', ' + 0.005*', 'time', ' + 0.005*', 'planet', ' + 0.005*', 'mountain', ' + 0.004*', 'exploration', \",\n",
       " \"'), (4, '0.013*\",\n",
       " \", 'ocean', ' + 0.013*', 'coral', ' + 0.007*', 'time', ' + 0.006*', 'year', ' + 0.006*', 'back', ' + 0.005*', 'sea', ' + 0.004*', 'big', ' + 0.004*', 'deep', \",\n",
       " \"')]\",\n",
       " ']']"
      ]
     },
     "execution_count": 80,
     "metadata": {},
     "output_type": "execute_result"
    }
   ],
   "source": [
    "(re.findall('\"([^\"]*)', str(topic_bags['ADVENTURE'])))"
   ]
  },
  {
   "cell_type": "code",
   "execution_count": 69,
   "metadata": {
    "collapsed": false
   },
   "outputs": [
    {
     "data": {
      "text/plain": [
       "0"
      ]
     },
     "execution_count": 69,
     "metadata": {},
     "output_type": "execute_result"
    }
   ],
   "source": [
    "len(dictionary.keys())"
   ]
  },
  {
   "cell_type": "raw",
   "metadata": {},
   "source": [
    "******************END ********************************"
   ]
  },
  {
   "cell_type": "raw",
   "metadata": {
    "collapsed": true
   },
   "source": [
    "# Create the list of files that need to be processed\n",
    "file_list = []\n",
    "for file in os.listdir(here):\n",
    "    if file.endswith(\".txt\"):\n",
    "        file_list.append(file)"
   ]
  },
  {
   "cell_type": "raw",
   "metadata": {},
   "source": [
    "t = corpora.Dictionary([getwords('a_robot_that_flies_like_a_bird.txt').split()])\n",
    "m = [t.doc2bow(getwords('a_robot_that_flies_like_a_bird.txt').split())]\n",
    "t.get(2)\n",
    "m"
   ]
  },
  {
   "cell_type": "code",
   "execution_count": 5,
   "metadata": {
    "collapsed": false
   },
   "outputs": [
    {
     "name": "stderr",
     "output_type": "stream",
     "text": [
      "C:\\Anaconda3\\lib\\site-packages\\gensim\\utils.py:840: UserWarning: detected Windows; aliasing chunkize to chunkize_serial\n",
      "  warnings.warn(\"detected Windows; aliasing chunkize to chunkize_serial\")\n",
      "C:\\Anaconda3\\lib\\site-packages\\gensim\\utils.py:1015: UserWarning: Pattern library is not installed, lemmatization won't be available.\n",
      "  warnings.warn(\"Pattern library is not installed, lemmatization won't be available.\")\n"
     ]
    }
   ],
   "source": []
  },
  {
   "cell_type": "code",
   "execution_count": 6,
   "metadata": {
    "collapsed": false
   },
   "outputs": [],
   "source": []
  },
  {
   "cell_type": "code",
   "execution_count": 7,
   "metadata": {
    "collapsed": true
   },
   "outputs": [],
   "source": []
  },
  {
   "cell_type": "code",
   "execution_count": 8,
   "metadata": {
    "collapsed": false
   },
   "outputs": [],
   "source": [
    "dmatrix = [dictionary.doc2bow(d) for d in doc_clean]"
   ]
  },
  {
   "cell_type": "code",
   "execution_count": 9,
   "metadata": {
    "collapsed": false
   },
   "outputs": [
    {
     "data": {
      "text/plain": [
       "<gensim.models.ldamodel.LdaModel at 0x18be18d1be0>"
      ]
     },
     "execution_count": 9,
     "metadata": {},
     "output_type": "execute_result"
    }
   ],
   "source": [
    "Lda = models.ldamodel.LdaModel\n",
    "ldamodel = Lda(dmatrix,num_topics=5,id2word = dictionary, passes=50)\n",
    "ldamodel"
   ]
  },
  {
   "cell_type": "code",
   "execution_count": 10,
   "metadata": {
    "collapsed": false
   },
   "outputs": [
    {
     "data": {
      "text/plain": [
       "[(1,\n",
       "  '0.008*\"time\" + 0.008*\"year\" + 0.007*\"world\" + 0.006*\"thing\" + 0.005*\"light\"'),\n",
       " (4,\n",
       "  '0.007*\"people\" + 0.007*\"thing\" + 0.006*\"year\" + 0.006*\"city\" + 0.006*\"world\"'),\n",
       " (0,\n",
       "  '0.007*\"thing\" + 0.006*\"people\" + 0.005*\"time\" + 0.004*\"year\" + 0.004*\"make\"')]"
      ]
     },
     "execution_count": 10,
     "metadata": {},
     "output_type": "execute_result"
    }
   ],
   "source": [
    "ldamodel.print_topics(num_topics=3, num_words=5)"
   ]
  },
  {
   "cell_type": "code",
   "execution_count": 11,
   "metadata": {
    "collapsed": false
   },
   "outputs": [
    {
     "data": {
      "text/plain": [
       "range(0, 471)"
      ]
     },
     "execution_count": 11,
     "metadata": {},
     "output_type": "execute_result"
    }
   ],
   "source": [
    "range(len(dmatrix))"
   ]
  },
  {
   "cell_type": "code",
   "execution_count": 13,
   "metadata": {
    "collapsed": false
   },
   "outputs": [],
   "source": [
    "dmatrix2 = [g(i) for i in range(len(dmatrix))]"
   ]
  },
  {
   "cell_type": "code",
   "execution_count": 18,
   "metadata": {
    "collapsed": false
   },
   "outputs": [
    {
     "data": {
      "text/plain": [
       "[(419, 29),\n",
       " (136, 15),\n",
       " (49, 10),\n",
       " (306, 9),\n",
       " (193, 8),\n",
       " (28, 7),\n",
       " (265, 7),\n",
       " (369, 7),\n",
       " (79, 6),\n",
       " (117, 6),\n",
       " (152, 6),\n",
       " (326, 6),\n",
       " (282, 5),\n",
       " (332, 5),\n",
       " (133, 4),\n",
       " (258, 4),\n",
       " (317, 4),\n",
       " (324, 4),\n",
       " (387, 4),\n",
       " (5, 3),\n",
       " (35, 3),\n",
       " (63, 3),\n",
       " (64, 3),\n",
       " (97, 3),\n",
       " (125, 3),\n",
       " (129, 3),\n",
       " (141, 3),\n",
       " (142, 3),\n",
       " (155, 3),\n",
       " (160, 3),\n",
       " (174, 3),\n",
       " (185, 3),\n",
       " (192, 3),\n",
       " (235, 3),\n",
       " (256, 3),\n",
       " (264, 3),\n",
       " (274, 3),\n",
       " (277, 3),\n",
       " (289, 3),\n",
       " (313, 3),\n",
       " (370, 3),\n",
       " (372, 3),\n",
       " (375, 3),\n",
       " (398, 3),\n",
       " (414, 3),\n",
       " (2, 2),\n",
       " (8, 2),\n",
       " (17, 2),\n",
       " (22, 2),\n",
       " (24, 2),\n",
       " (30, 2),\n",
       " (38, 2),\n",
       " (44, 2),\n",
       " (56, 2),\n",
       " (76, 2),\n",
       " (84, 2),\n",
       " (90, 2),\n",
       " (91, 2),\n",
       " (96, 2),\n",
       " (102, 2),\n",
       " (113, 2),\n",
       " (115, 2),\n",
       " (119, 2),\n",
       " (127, 2),\n",
       " (132, 2),\n",
       " (149, 2),\n",
       " (151, 2),\n",
       " (164, 2),\n",
       " (170, 2),\n",
       " (190, 2),\n",
       " (194, 2),\n",
       " (202, 2),\n",
       " (203, 2),\n",
       " (209, 2),\n",
       " (211, 2),\n",
       " (217, 2),\n",
       " (220, 2),\n",
       " (244, 2),\n",
       " (253, 2),\n",
       " (263, 2),\n",
       " (288, 2),\n",
       " (305, 2),\n",
       " (309, 2),\n",
       " (311, 2),\n",
       " (312, 2),\n",
       " (322, 2),\n",
       " (323, 2),\n",
       " (330, 2),\n",
       " (334, 2),\n",
       " (335, 2),\n",
       " (348, 2),\n",
       " (350, 2),\n",
       " (352, 2),\n",
       " (357, 2),\n",
       " (358, 2),\n",
       " (366, 2),\n",
       " (368, 2),\n",
       " (378, 2),\n",
       " (392, 2),\n",
       " (399, 2),\n",
       " (403, 2),\n",
       " (416, 2),\n",
       " (0, 1),\n",
       " (1, 1),\n",
       " (3, 1),\n",
       " (4, 1),\n",
       " (6, 1),\n",
       " (7, 1),\n",
       " (9, 1),\n",
       " (10, 1),\n",
       " (11, 1),\n",
       " (12, 1),\n",
       " (13, 1),\n",
       " (14, 1),\n",
       " (15, 1),\n",
       " (16, 1),\n",
       " (18, 1),\n",
       " (19, 1),\n",
       " (20, 1),\n",
       " (21, 1),\n",
       " (23, 1),\n",
       " (25, 1),\n",
       " (26, 1),\n",
       " (27, 1),\n",
       " (29, 1),\n",
       " (31, 1),\n",
       " (32, 1),\n",
       " (33, 1),\n",
       " (34, 1),\n",
       " (36, 1),\n",
       " (37, 1),\n",
       " (39, 1),\n",
       " (40, 1),\n",
       " (41, 1),\n",
       " (42, 1),\n",
       " (43, 1),\n",
       " (45, 1),\n",
       " (46, 1),\n",
       " (47, 1),\n",
       " (48, 1),\n",
       " (50, 1),\n",
       " (51, 1),\n",
       " (52, 1),\n",
       " (53, 1),\n",
       " (54, 1),\n",
       " (55, 1),\n",
       " (57, 1),\n",
       " (58, 1),\n",
       " (59, 1),\n",
       " (60, 1),\n",
       " (61, 1),\n",
       " (62, 1),\n",
       " (65, 1),\n",
       " (66, 1),\n",
       " (67, 1),\n",
       " (68, 1),\n",
       " (69, 1),\n",
       " (70, 1),\n",
       " (71, 1),\n",
       " (72, 1),\n",
       " (73, 1),\n",
       " (74, 1),\n",
       " (75, 1),\n",
       " (77, 1),\n",
       " (78, 1),\n",
       " (80, 1),\n",
       " (81, 1),\n",
       " (82, 1),\n",
       " (83, 1),\n",
       " (85, 1),\n",
       " (86, 1),\n",
       " (87, 1),\n",
       " (88, 1),\n",
       " (89, 1),\n",
       " (92, 1),\n",
       " (93, 1),\n",
       " (94, 1),\n",
       " (95, 1),\n",
       " (98, 1),\n",
       " (99, 1),\n",
       " (100, 1),\n",
       " (101, 1),\n",
       " (103, 1),\n",
       " (104, 1),\n",
       " (105, 1),\n",
       " (106, 1),\n",
       " (107, 1),\n",
       " (108, 1),\n",
       " (109, 1),\n",
       " (110, 1),\n",
       " (111, 1),\n",
       " (112, 1),\n",
       " (114, 1),\n",
       " (116, 1),\n",
       " (118, 1),\n",
       " (120, 1),\n",
       " (121, 1),\n",
       " (122, 1),\n",
       " (123, 1),\n",
       " (124, 1),\n",
       " (126, 1),\n",
       " (128, 1),\n",
       " (130, 1),\n",
       " (131, 1),\n",
       " (134, 1),\n",
       " (135, 1),\n",
       " (137, 1),\n",
       " (138, 1),\n",
       " (139, 1),\n",
       " (140, 1),\n",
       " (143, 1),\n",
       " (144, 1),\n",
       " (145, 1),\n",
       " (146, 1),\n",
       " (147, 1),\n",
       " (148, 1),\n",
       " (150, 1),\n",
       " (153, 1),\n",
       " (154, 1),\n",
       " (156, 1),\n",
       " (157, 1),\n",
       " (158, 1),\n",
       " (159, 1),\n",
       " (161, 1),\n",
       " (162, 1),\n",
       " (163, 1),\n",
       " (165, 1),\n",
       " (166, 1),\n",
       " (167, 1),\n",
       " (168, 1),\n",
       " (169, 1),\n",
       " (171, 1),\n",
       " (172, 1),\n",
       " (173, 1),\n",
       " (175, 1),\n",
       " (176, 1),\n",
       " (177, 1),\n",
       " (178, 1),\n",
       " (179, 1),\n",
       " (180, 1),\n",
       " (181, 1),\n",
       " (182, 1),\n",
       " (183, 1),\n",
       " (184, 1),\n",
       " (186, 1),\n",
       " (187, 1),\n",
       " (188, 1),\n",
       " (189, 1),\n",
       " (191, 1),\n",
       " (195, 1),\n",
       " (196, 1),\n",
       " (197, 1),\n",
       " (198, 1),\n",
       " (199, 1),\n",
       " (200, 1),\n",
       " (201, 1),\n",
       " (204, 1),\n",
       " (205, 1),\n",
       " (206, 1),\n",
       " (207, 1),\n",
       " (208, 1),\n",
       " (210, 1),\n",
       " (212, 1),\n",
       " (213, 1),\n",
       " (214, 1),\n",
       " (215, 1),\n",
       " (216, 1),\n",
       " (218, 1),\n",
       " (219, 1),\n",
       " (221, 1),\n",
       " (222, 1),\n",
       " (223, 1),\n",
       " (224, 1),\n",
       " (225, 1),\n",
       " (226, 1),\n",
       " (227, 1),\n",
       " (228, 1),\n",
       " (229, 1),\n",
       " (230, 1),\n",
       " (231, 1),\n",
       " (232, 1),\n",
       " (233, 1),\n",
       " (234, 1),\n",
       " (236, 1),\n",
       " (237, 1),\n",
       " (238, 1),\n",
       " (239, 1),\n",
       " (240, 1),\n",
       " (241, 1),\n",
       " (242, 1),\n",
       " (243, 1),\n",
       " (245, 1),\n",
       " (246, 1),\n",
       " (247, 1),\n",
       " (248, 1),\n",
       " (249, 1),\n",
       " (250, 1),\n",
       " (251, 1),\n",
       " (252, 1),\n",
       " (254, 1),\n",
       " (255, 1),\n",
       " (257, 1),\n",
       " (259, 1),\n",
       " (260, 1),\n",
       " (261, 1),\n",
       " (262, 1),\n",
       " (266, 1),\n",
       " (267, 1),\n",
       " (268, 1),\n",
       " (269, 1),\n",
       " (270, 1),\n",
       " (271, 1),\n",
       " (272, 1),\n",
       " (273, 1),\n",
       " (275, 1),\n",
       " (276, 1),\n",
       " (278, 1),\n",
       " (279, 1),\n",
       " (280, 1),\n",
       " (281, 1),\n",
       " (283, 1),\n",
       " (284, 1),\n",
       " (285, 1),\n",
       " (286, 1),\n",
       " (287, 1),\n",
       " (290, 1),\n",
       " (291, 1),\n",
       " (292, 1),\n",
       " (293, 1),\n",
       " (294, 1),\n",
       " (295, 1),\n",
       " (296, 1),\n",
       " (297, 1),\n",
       " (298, 1),\n",
       " (299, 1),\n",
       " (300, 1),\n",
       " (301, 1),\n",
       " (302, 1),\n",
       " (303, 1),\n",
       " (304, 1),\n",
       " (307, 1),\n",
       " (308, 1),\n",
       " (310, 1),\n",
       " (314, 1),\n",
       " (315, 1),\n",
       " (316, 1),\n",
       " (318, 1),\n",
       " (319, 1),\n",
       " (320, 1),\n",
       " (321, 1),\n",
       " (325, 1),\n",
       " (327, 1),\n",
       " (328, 1),\n",
       " (329, 1),\n",
       " (331, 1),\n",
       " (333, 1),\n",
       " (336, 1),\n",
       " (337, 1),\n",
       " (338, 1),\n",
       " (339, 1),\n",
       " (340, 1),\n",
       " (341, 1),\n",
       " (342, 1),\n",
       " (343, 1),\n",
       " (344, 1),\n",
       " (345, 1),\n",
       " (346, 1),\n",
       " (347, 1),\n",
       " (349, 1),\n",
       " (351, 1),\n",
       " (353, 1),\n",
       " (354, 1),\n",
       " (355, 1),\n",
       " (356, 1),\n",
       " (359, 1),\n",
       " (360, 1),\n",
       " (361, 1),\n",
       " (362, 1),\n",
       " (363, 1),\n",
       " (364, 1),\n",
       " (365, 1),\n",
       " (367, 1),\n",
       " (371, 1),\n",
       " (373, 1),\n",
       " (374, 1),\n",
       " (376, 1),\n",
       " (377, 1),\n",
       " (379, 1),\n",
       " (380, 1),\n",
       " (381, 1),\n",
       " (382, 1),\n",
       " (383, 1),\n",
       " (384, 1),\n",
       " (385, 1),\n",
       " (386, 1),\n",
       " (388, 1),\n",
       " (389, 1),\n",
       " (390, 1),\n",
       " (391, 1),\n",
       " (393, 1),\n",
       " (394, 1),\n",
       " (395, 1),\n",
       " (396, 1),\n",
       " (397, 1),\n",
       " (400, 1),\n",
       " (401, 1),\n",
       " (402, 1),\n",
       " (404, 1),\n",
       " (405, 1),\n",
       " (406, 1),\n",
       " (407, 1),\n",
       " (408, 1),\n",
       " (409, 1),\n",
       " (410, 1),\n",
       " (411, 1),\n",
       " (412, 1),\n",
       " (413, 1),\n",
       " (415, 1),\n",
       " (417, 1),\n",
       " (418, 1),\n",
       " (420, 1)]"
      ]
     },
     "execution_count": 18,
     "metadata": {},
     "output_type": "execute_result"
    }
   ],
   "source": [
    "dmatrix2[1]"
   ]
  },
  {
   "cell_type": "code",
   "execution_count": 14,
   "metadata": {
    "collapsed": false
   },
   "outputs": [],
   "source": [
    "ldamodel2 = Lda(dmatrix2,num_topics=5,id2word = dictionary, passes=50)"
   ]
  },
  {
   "cell_type": "code",
   "execution_count": 16,
   "metadata": {
    "collapsed": false
   },
   "outputs": [
    {
     "data": {
      "text/plain": [
       "[(0,\n",
       "  '0.009*\"people\" + 0.009*\"brain\" + 0.007*\"year\" + 0.006*\"thing\" + 0.006*\"time\"'),\n",
       " (1,\n",
       "  '0.012*\"people\" + 0.008*\"world\" + 0.007*\"woman\" + 0.007*\"year\" + 0.006*\"time\"'),\n",
       " (2,\n",
       "  '0.006*\"cell\" + 0.006*\"life\" + 0.005*\"year\" + 0.005*\"thing\" + 0.005*\"time\"'),\n",
       " (3,\n",
       "  '0.014*\"people\" + 0.008*\"year\" + 0.008*\"thing\" + 0.007*\"world\" + 0.006*\"time\"'),\n",
       " (4,\n",
       "  '0.009*\"people\" + 0.008*\"thing\" + 0.007*\"time\" + 0.007*\"world\" + 0.005*\"year\"')]"
      ]
     },
     "execution_count": 16,
     "metadata": {},
     "output_type": "execute_result"
    }
   ],
   "source": [
    "ldamodel2.print_topics(num_topics=10, num_words=5)"
   ]
  }
 ],
 "metadata": {
  "kernelspec": {
   "display_name": "Python [Root]",
   "language": "python",
   "name": "Python [Root]"
  },
  "language_info": {
   "codemirror_mode": {
    "name": "ipython",
    "version": 3
   },
   "file_extension": ".py",
   "mimetype": "text/x-python",
   "name": "python",
   "nbconvert_exporter": "python",
   "pygments_lexer": "ipython3",
   "version": "3.5.2"
  },
  "nbpresent": {
   "slides": {},
   "themes": {
    "default": "44eacf82-fbc3-41d9-af99-90a21848662b",
    "theme": {}
   }
  }
 },
 "nbformat": 4,
 "nbformat_minor": 0
}
